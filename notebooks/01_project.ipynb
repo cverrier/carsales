{
 "cells": [
  {
   "cell_type": "markdown",
   "metadata": {},
   "source": [
    "# Analyzing Used Car Listings on eBay Kleinanzeigen"
   ]
  },
  {
   "cell_type": "markdown",
   "metadata": {},
   "source": [
    "We will work with a dataset of used cars from *eBay Kleinanzeigen*, a classifieds section of the German eBay website.\n",
    "\n",
    "This dataset has originally been scraped and uploaded to Kaggle. The original dataset is not available on Kaggle anymore, but can be found [here](https://data.world/data-society/used-cars-data).\n",
    "\n",
    "The version of the dataset we will work with is a sample of 50,000 data points that was prepared by [Dataquest](https://www.dataquest.io/) including simulating a less-cleaned version of the data.\n",
    "\n",
    "The data dictionary provided with data is as follows:\n",
    "\n",
    "- `dateCrawled` - When this ad was first crawled. All field-values are taken from this date.\n",
    "- `name` - Name of the car.\n",
    "- `seller` - Whether the seller is private or a dealer.\n",
    "- `offerType` - The type of listing.\n",
    "- `price` - The price on the ad to sell the car.\n",
    "- `abtest` - Whether the listing is included in an A/B test.\n",
    "- `vehicleType` - The vehicle Type.\n",
    "- `yearOfRegistration` - The year in which which year the car was first registered.\n",
    "- `gearbox` - The transmission type.\n",
    "- `powerPS` - The power of the car in PS.\n",
    "- `model` - The car model name.\n",
    "- `kilometer` - How many kilometers the car has driven.\n",
    "- `monthOfRegistration` - The month in which which year the car was first registered.\n",
    "- `fuelType` - What type of fuel the car uses.\n",
    "- `brand` - The brand of the car.\n",
    "- `notRepairedDamage` - If the car has a damage which is not yet repaired.\n",
    "- `dateCreated` - The date on which the eBay listing was created.\n",
    "- `nrOfPictures` - The number of pictures in the ad.\n",
    "- `postalCode` - The postal code for the location of the vehicle.\n",
    "- `lastSeenOnline` - When the crawler saw this ad last online.\n",
    "\n",
    "During this project, we will focus on cleaning the dataset and analyze the included car listings."
   ]
  },
  {
   "cell_type": "code",
   "execution_count": null,
   "metadata": {},
   "outputs": [],
   "source": [
    "import os\n",
    "import sys\n",
    "import logging\n",
    "from pathlib import Path\n",
    "\n",
    "import numpy as np\n",
    "\n",
    "%load_ext autoreload\n",
    "%autoreload 2\n",
    "\n",
    "import pandas as pd\n",
    "pd.set_option(\"display.max_rows\", 120)\n",
    "pd.set_option(\"display.max_columns\", 120)\n",
    "\n",
    "logging.basicConfig(level=logging.INFO, stream=sys.stdout)"
   ]
  },
  {
   "cell_type": "markdown",
   "metadata": {},
   "source": [
    "## Load Data"
   ]
  },
  {
   "cell_type": "code",
   "execution_count": null,
   "metadata": {},
   "outputs": [],
   "source": [
    "from carsales.datasets import load_autos"
   ]
  },
  {
   "cell_type": "code",
   "execution_count": null,
   "metadata": {},
   "outputs": [],
   "source": [
    "autos = load_autos()"
   ]
  },
  {
   "cell_type": "code",
   "execution_count": null,
   "metadata": {},
   "outputs": [],
   "source": [
    "autos.info()"
   ]
  },
  {
   "cell_type": "code",
   "execution_count": null,
   "metadata": {},
   "outputs": [],
   "source": [
    "autos.head()"
   ]
  },
  {
   "cell_type": "markdown",
   "metadata": {},
   "source": [
    "Most of the data is represented as string. There are some attributes (`vehicleType`, `gearbox`, `model`, `fuelType` and `notRepairedDamage`) which have missing values. We will need to deal with that later.\n",
    "\n",
    "We will start by cleaning the column names to make the data easier to work with: we will use the Python's preferred [snakecase](https://en.wikipedia.org/wiki/Snake_case) style, and also rename some fields to make sense more understandable."
   ]
  },
  {
   "cell_type": "markdown",
   "metadata": {},
   "source": [
    "## Rename Columns"
   ]
  },
  {
   "cell_type": "code",
   "execution_count": null,
   "metadata": {},
   "outputs": [],
   "source": [
    "autos.columns"
   ]
  },
  {
   "cell_type": "code",
   "execution_count": null,
   "metadata": {},
   "outputs": [],
   "source": [
    "autos.columns = [\n",
    "    'date_crawled', 'name', 'seller', 'offer_type', 'price', 'ab_test', 'vehicle_type',\n",
    "    'registration_year', 'gearbox', 'power_ps', 'model', 'odometer', 'registration_month',\n",
    "    'fuel_type', 'brand', 'unrepaired_damage', 'ad_created', 'n_pictures',\n",
    "    'postal_code', 'last_seen'\n",
    "]"
   ]
  },
  {
   "cell_type": "code",
   "execution_count": null,
   "metadata": {},
   "outputs": [],
   "source": [
    "autos.head()"
   ]
  },
  {
   "cell_type": "markdown",
   "metadata": {},
   "source": [
    "We will now investigate the data in more detail.\n",
    "\n",
    "First of all, we should remove text columns where all or almost all values are the same, as it often has no useful information for further analysis.\n",
    "\n",
    "It is also important to check for numeric data stored as text: they can be cleaned and converted to an appropriate format."
   ]
  },
  {
   "cell_type": "code",
   "execution_count": null,
   "metadata": {},
   "outputs": [],
   "source": [
    "autos.describe(include='all')"
   ]
  },
  {
   "cell_type": "code",
   "execution_count": null,
   "metadata": {
    "tags": []
   },
   "outputs": [],
   "source": [
    "autos['odometer'].value_counts().sort_index()"
   ]
  },
  {
   "cell_type": "markdown",
   "metadata": {},
   "source": [
    "The following columns have have mostly one value and can be safely dropped:\n",
    "- `seller`: all but one ads are associated to a private seller,\n",
    "- `offer_type`: all but one ads are associated to the same value `Angebot`,\n",
    "- `n_pictures`: all data seem to have no pictures.\n",
    "\n",
    "There are also a few columns that need more investigation:\n",
    "- `price` has unrealistically low and high values: some ads display a price of 0 and 1 USD, and also more than 999,000 USD! Moreover, the data is represented as strings; it would be more convenient and appropriate to use float numbers,\n",
    "- `registration_year` has also the same issue with unrealistic scenarios (1000, 1001, 1111, 1500, 1800, and some values are above 2800).\n",
    "- `registration_month` has values ranging from 0 to 12. Since there are only 12 months in a year, we need to look more carefully at this issue, and decide which value to get rid of (0 or 12).\n",
    "\n",
    "The `odometer` attribute needs to be converted to a numerical type (currently represented as strings)."
   ]
  },
  {
   "cell_type": "markdown",
   "metadata": {},
   "source": [
    "Let's first drop attributes mentioned above that are not interesting for further analysis."
   ]
  },
  {
   "cell_type": "code",
   "execution_count": null,
   "metadata": {},
   "outputs": [],
   "source": [
    "autos.drop(columns=['seller', 'offer_type', 'n_pictures'], inplace=True)"
   ]
  },
  {
   "cell_type": "markdown",
   "metadata": {},
   "source": [
    "We now investigate the `price` attribute and we will:\n",
    "- remove any non-numeric character,\n",
    "- convert the column to a numeric dtype,\n",
    "- get rid of instances that have unrealistic values."
   ]
  },
  {
   "cell_type": "code",
   "execution_count": null,
   "metadata": {},
   "outputs": [],
   "source": [
    "from carsales.features import remove_chars"
   ]
  },
  {
   "cell_type": "code",
   "execution_count": null,
   "metadata": {},
   "outputs": [],
   "source": [
    "autos['price'] = remove_chars(autos['price'], ['$', ','])"
   ]
  },
  {
   "cell_type": "code",
   "execution_count": null,
   "metadata": {},
   "outputs": [],
   "source": [
    "autos['price'].head()"
   ]
  },
  {
   "cell_type": "code",
   "execution_count": null,
   "metadata": {},
   "outputs": [],
   "source": [
    "autos['price'] = autos['price'].astype(float)"
   ]
  },
  {
   "cell_type": "code",
   "execution_count": null,
   "metadata": {},
   "outputs": [],
   "source": [
    "autos['price'].head()"
   ]
  },
  {
   "cell_type": "code",
   "execution_count": null,
   "metadata": {},
   "outputs": [],
   "source": [
    "autos['price'].value_counts().sort_index(ascending=False).head(20)"
   ]
  },
  {
   "cell_type": "code",
   "execution_count": null,
   "metadata": {},
   "outputs": [],
   "source": [
    "autos['price'].value_counts().sort_index(ascending=True).head(20)"
   ]
  },
  {
   "cell_type": "markdown",
   "metadata": {},
   "source": [
    "From the two cells above, we can make the following remarks:\n",
    "- there is a huge gap between high prices: the next price after 350,000 USD is almost 1,000,000 USD, which seems unrealistic. We will drop any data point whose price is greater than 350,000 USD,\n",
    "- around 1,500 cars have been given a 0 USD price; we will also drop these data points,\n",
    "- some cars have a very low price such as 1 USD; it may sound weird when we first look at the data, but remember eBay is an auction site, thus there could be items with such a low opening bid."
   ]
  },
  {
   "cell_type": "code",
   "execution_count": null,
   "metadata": {},
   "outputs": [],
   "source": [
    "from carsales.features import remove_prices"
   ]
  },
  {
   "cell_type": "code",
   "execution_count": null,
   "metadata": {},
   "outputs": [],
   "source": [
    "price_max = 350_000.0\n",
    "price_min = 1.0"
   ]
  },
  {
   "cell_type": "code",
   "execution_count": null,
   "metadata": {},
   "outputs": [],
   "source": [
    "autos['price'] = remove_prices(autos['price'], price_min, price_max)"
   ]
  },
  {
   "cell_type": "code",
   "execution_count": null,
   "metadata": {},
   "outputs": [],
   "source": [
    "autos['price'].min(), autos['price'].max()"
   ]
  },
  {
   "cell_type": "markdown",
   "metadata": {},
   "source": [
    "For the `odometer`, we will also remove any non-numeric character and convert the column to a numeric dtype. It seems all values are reasonable."
   ]
  },
  {
   "cell_type": "code",
   "execution_count": null,
   "metadata": {},
   "outputs": [],
   "source": [
    "autos['odometer'] = remove_chars(autos['odometer'], ['km', ','])"
   ]
  },
  {
   "cell_type": "code",
   "execution_count": null,
   "metadata": {},
   "outputs": [],
   "source": [
    "autos.rename(columns={'odometer': 'odometer_km'}, inplace=True)"
   ]
  },
  {
   "cell_type": "code",
   "execution_count": null,
   "metadata": {},
   "outputs": [],
   "source": [
    "autos.columns"
   ]
  },
  {
   "cell_type": "code",
   "execution_count": null,
   "metadata": {},
   "outputs": [],
   "source": [
    "autos['odometer_km'] = autos['odometer_km'].astype(float)"
   ]
  },
  {
   "cell_type": "code",
   "execution_count": null,
   "metadata": {},
   "outputs": [],
   "source": [
    "autos['odometer_km']"
   ]
  },
  {
   "cell_type": "code",
   "execution_count": null,
   "metadata": {},
   "outputs": [],
   "source": [
    "autos['odometer_km'].min()"
   ]
  },
  {
   "cell_type": "code",
   "execution_count": null,
   "metadata": {},
   "outputs": [],
   "source": [
    "autos['odometer_km'].max()"
   ]
  },
  {
   "cell_type": "code",
   "execution_count": null,
   "metadata": {},
   "outputs": [],
   "source": [
    "autos['price'].describe()"
   ]
  },
  {
   "cell_type": "code",
   "execution_count": null,
   "metadata": {},
   "outputs": [],
   "source": [
    "autos['odometer_km'].describe()"
   ]
  },
  {
   "cell_type": "code",
   "execution_count": null,
   "metadata": {},
   "outputs": [],
   "source": [
    "autos['price'].value_counts(dropna=False)"
   ]
  },
  {
   "cell_type": "markdown",
   "metadata": {},
   "source": [
    "We can see that there are about 1,500 ads without having a price. Let's see if we can find more information about these ads."
   ]
  },
  {
   "cell_type": "code",
   "execution_count": null,
   "metadata": {},
   "outputs": [],
   "source": [
    "autos[autos['price'].isnull()]"
   ]
  },
  {
   "cell_type": "markdown",
   "metadata": {},
   "source": [
    "So far, we cannot conclude anything interesting concerning these rows. What we could do:\n",
    "- directly remove these rows from the dataset. It seems reasonable since it is less than 3% of the entire dataset, and we can also notice that these rows have missing values in other attributes such as `gearbox`, `vehicle_type` and `model`. There are also some of them which have a 0 value for `power_ps`, which is not realistic,\n",
    "- use some imputing technique to fill missing values. Even if it is possible to do that, considering the first remark it means we would also need to fill missing values in the other attributes, which might be time-consuming and not worth it."
   ]
  },
  {
   "cell_type": "markdown",
   "metadata": {},
   "source": [
    "## Explore Date Columns"
   ]
  },
  {
   "cell_type": "markdown",
   "metadata": {},
   "source": [
    "Considering the dataset documentation, there are 5 columns that should represent date values:\n",
    "- `date_crawled` - When this ad was first crawled. All field-values are taken from this date.\n",
    "- `ad_created` - The date on which the eBay listing was created.\n",
    "- `last_seen` - When the crawler saw this ad last online.\n",
    "- `registration_year` - The year in which which year the car was first registered.\n",
    "- `registration_month` - The month in which which year the car was first registered."
   ]
  },
  {
   "cell_type": "code",
   "execution_count": null,
   "metadata": {},
   "outputs": [],
   "source": [
    "date_columns = ['date_crawled', 'ad_created',  'last_seen', 'registration_year', 'registration_month']"
   ]
  },
  {
   "cell_type": "code",
   "execution_count": null,
   "metadata": {},
   "outputs": [],
   "source": [
    "autos[date_columns].head()"
   ]
  },
  {
   "cell_type": "code",
   "execution_count": null,
   "metadata": {},
   "outputs": [],
   "source": [
    "autos[date_columns].info()"
   ]
  },
  {
   "cell_type": "markdown",
   "metadata": {},
   "source": [
    "We can see that both `registration_year` and `registration_month` are already represented as numeric values. However, the three other columns (`date_crawled`, `ad_created` and `last_seen`) are still in a string format: we need to convert them into a numerical representation so as to understand them quantitatively.\n",
    "\n",
    "Considering the cells above, the format is `YYYY-MM-DD HH:MM:SS`. That is, the first 10 characters represent the day. We will use this information to calculate the statistical distribution of values in `date_crawled`, `ad_created` and `last_seen`."
   ]
  },
  {
   "cell_type": "markdown",
   "metadata": {},
   "source": [
    "### Statistical Distributions"
   ]
  },
  {
   "cell_type": "code",
   "execution_count": null,
   "metadata": {},
   "outputs": [],
   "source": [
    "str_date_columns = ['date_crawled', 'ad_created', 'last_seen']"
   ]
  },
  {
   "cell_type": "code",
   "execution_count": null,
   "metadata": {},
   "outputs": [],
   "source": [
    "from carsales.features import create_date_distrib"
   ]
  },
  {
   "cell_type": "code",
   "execution_count": null,
   "metadata": {
    "tags": []
   },
   "outputs": [],
   "source": [
    "create_date_distrib(autos['date_crawled'])"
   ]
  },
  {
   "cell_type": "markdown",
   "metadata": {},
   "source": [
    "It seems that the statistical distribution of listings crawled is uniform (over days)."
   ]
  },
  {
   "cell_type": "code",
   "execution_count": null,
   "metadata": {
    "tags": []
   },
   "outputs": [],
   "source": [
    "create_date_distrib(autos['ad_created'])"
   ]
  },
  {
   "cell_type": "markdown",
   "metadata": {},
   "source": [
    "However, there is a wide range of `ad_created` dates. We can notice that the majority of ads have been created between March 2016 and April 2016, which corresponds to the dates we observed for `date_crawled`. We can also see that some ads were almost 10 months old."
   ]
  },
  {
   "cell_type": "code",
   "execution_count": null,
   "metadata": {
    "tags": []
   },
   "outputs": [],
   "source": [
    "create_date_distrib(autos['last_seen'])"
   ]
  },
  {
   "cell_type": "markdown",
   "metadata": {
    "tags": []
   },
   "source": [
    "The associated [dataset documentation](https://data.world/data-society/used-cars-data) mentions that:\n",
    "> The fields lastSeen and dateCrawled could be used to estimate how long a car will be at least online before it is sold.\n",
    "\n",
    "Thanks to this, it could be interesting to create a new feature which represents how long a car have been online before it has been sold.\n",
    "\n",
    "We can see that more that 47% of the listings were last seen between the last three days (from 2016 April, 5th to 2016 April, 7th), with a spike on 2016 April, 6th with more than 22%. This could be explained by two things:\n",
    "- there was a huge spike in sales; this is quite unrealistic since it is an auction site, so there is no special type of promotion,\n",
    "- this in fact represents the crawling period endings, and are not related to car sales.\n",
    "\n",
    "Let's now look at the `registration_year` in more detail. As this attribute is already represented with numeric type, we do not need any preprocessing."
   ]
  },
  {
   "cell_type": "markdown",
   "metadata": {},
   "source": [
    "### Deal with Incorrect Registration Years"
   ]
  },
  {
   "cell_type": "code",
   "execution_count": null,
   "metadata": {},
   "outputs": [],
   "source": [
    "autos['registration_year'].describe()"
   ]
  },
  {
   "cell_type": "markdown",
   "metadata": {},
   "source": [
    "As mentioned earlier, there are unrealistic values. We should remove the associated listings. We can also catch some outliers and unrealistic scenarios by looking simultaneously at the `last_seen` attribute: indeed, a car cannot be first registered after the listing was seen. We can also compare the registration year with `ad_created`: a car cannot be registered after the ad was created.\n",
    "\n",
    "We can find [here](https://en.wikipedia.org/wiki/Car) that the first car was invented in 1886: it gives us an estimate to deal with unrealistic listings associated with long distant dates.\n",
    "\n",
    "Before directly removing these listings, we should have a look at the proportion that they represent: if it is too high, we would loose a lot of data. If it is the case, we should try to find more custom logic (such as imputing) instead of getting rid of the outliers."
   ]
  },
  {
   "cell_type": "code",
   "execution_count": null,
   "metadata": {},
   "outputs": [],
   "source": [
    "min_acceptable_year = 1886  # Date the first car was invented"
   ]
  },
  {
   "cell_type": "code",
   "execution_count": null,
   "metadata": {},
   "outputs": [],
   "source": [
    "last_seen_years = pd.to_datetime(autos['last_seen']).dt.year"
   ]
  },
  {
   "cell_type": "code",
   "execution_count": null,
   "metadata": {},
   "outputs": [],
   "source": [
    "max_acceptable_year = last_seen_years.max()  # See explanations above"
   ]
  },
  {
   "cell_type": "code",
   "execution_count": null,
   "metadata": {},
   "outputs": [],
   "source": [
    "outliers_year_mask = ~autos['registration_year'].between(min_acceptable_year, max_acceptable_year)"
   ]
  },
  {
   "cell_type": "code",
   "execution_count": null,
   "metadata": {},
   "outputs": [],
   "source": [
    "outliers_year_mask.sum() / len(autos)"
   ]
  },
  {
   "cell_type": "markdown",
   "metadata": {},
   "source": [
    "Less than 4% of the dataset corresponds to these outliers, so we can safely delete them without hurting the dataset size too much. Let's also look for other potential types of outliers (cf. explanations above)."
   ]
  },
  {
   "cell_type": "code",
   "execution_count": null,
   "metadata": {},
   "outputs": [],
   "source": [
    "((last_seen_years < autos['registration_year']) & ~outliers_year_mask).sum()"
   ]
  },
  {
   "cell_type": "markdown",
   "metadata": {},
   "source": [
    "There is no additional car whose registration year is greater that its associated `last_seen` value."
   ]
  },
  {
   "cell_type": "code",
   "execution_count": null,
   "metadata": {},
   "outputs": [],
   "source": [
    "(( pd.to_datetime(autos['ad_created']).dt.year < autos['registration_year']) & ~outliers_year_mask).sum()"
   ]
  },
  {
   "cell_type": "markdown",
   "metadata": {},
   "source": [
    "And there is no additional car registered after the ad was created."
   ]
  },
  {
   "cell_type": "code",
   "execution_count": null,
   "metadata": {},
   "outputs": [],
   "source": [
    "from carsales.features import remove_registrations"
   ]
  },
  {
   "cell_type": "code",
   "execution_count": null,
   "metadata": {},
   "outputs": [],
   "source": [
    "remove_registrations(autos, min_acceptable_year, max_acceptable_year, inplace=True)"
   ]
  },
  {
   "cell_type": "code",
   "execution_count": null,
   "metadata": {},
   "outputs": [],
   "source": [
    "len(autos)"
   ]
  },
  {
   "cell_type": "markdown",
   "metadata": {},
   "source": [
    "We can now look at the statiscal distribution of `registration_year`."
   ]
  },
  {
   "cell_type": "code",
   "execution_count": null,
   "metadata": {},
   "outputs": [],
   "source": [
    "autos['registration_year'].value_counts(normalize=True).sort_index()"
   ]
  },
  {
   "cell_type": "markdown",
   "metadata": {},
   "source": [
    "We can clearly see that most of the listings corresponds to cars registered from the 90's to 2016. There is also a gap around the 80's."
   ]
  },
  {
   "cell_type": "markdown",
   "metadata": {},
   "source": [
    "## Explore Car Prices by Brand"
   ]
  },
  {
   "cell_type": "markdown",
   "metadata": {},
   "source": [
    "It can be interesting to use data aggregation to better understand the `brand` attribute. In particular, we can focus our attention on the mean price for each brand. This will give us an idea about the most expensive brands on the eBay market.\n",
    "\n",
    "Let's first check if there is any missing value regarding car brands."
   ]
  },
  {
   "cell_type": "code",
   "execution_count": null,
   "metadata": {},
   "outputs": [],
   "source": [
    "autos['brand'].isnull().any()"
   ]
  },
  {
   "cell_type": "code",
   "execution_count": null,
   "metadata": {},
   "outputs": [],
   "source": [
    "autos['brand'].value_counts(normalize=True)"
   ]
  },
  {
   "cell_type": "markdown",
   "metadata": {},
   "source": [
    "The top 3 brands are Volkswagen, BMW and Opel, with respectively around 21%, 11% and 10% of the listings. We can also notice that Volkswagen (top 1 brand) is highly above BMW and Opel.\n",
    "\n",
    "We will only focus our attention on brands that have over 5% of total values: it is not very relevant to include all brands."
   ]
  },
  {
   "cell_type": "code",
   "execution_count": null,
   "metadata": {},
   "outputs": [],
   "source": [
    "brands = autos['brand'].value_counts(normalize=True)\n",
    "brands = brands[brands >= 0.05].index"
   ]
  },
  {
   "cell_type": "code",
   "execution_count": null,
   "metadata": {},
   "outputs": [],
   "source": [
    "brands"
   ]
  },
  {
   "cell_type": "code",
   "execution_count": null,
   "metadata": {},
   "outputs": [],
   "source": [
    "autos['brand'].value_counts(normalize=True) >= 0.01"
   ]
  },
  {
   "cell_type": "code",
   "execution_count": null,
   "metadata": {},
   "outputs": [],
   "source": [
    "from carsales.features import compute_brands_avg_feature"
   ]
  },
  {
   "cell_type": "code",
   "execution_count": null,
   "metadata": {},
   "outputs": [],
   "source": [
    "brand_avg_prices = compute_brands_avg_feature(autos, brands, 'price')"
   ]
  },
  {
   "cell_type": "code",
   "execution_count": null,
   "metadata": {},
   "outputs": [],
   "source": [
    "brand_avg_prices"
   ]
  },
  {
   "cell_type": "markdown",
   "metadata": {},
   "source": [
    "We can clearly see that Audi, Mercedes-Benz and BMW are the most expensive brands. The next most expensive one is Volkswagen, with a gap of almost 3,000 USD with BMW. Finally, Ford and Opel seem to be less expensive. This would explain the popularity of Volkswagen (as seen above in the brands statistical distribution), corresponding to more than 20% of the listings on the website.\n",
    "\n",
    "For these top 6 brands, let's use again aggregation to see if there is a link between average price and average mileage: we will compute the average mileage of the cars for each brand, and put the result together with the average price computed above."
   ]
  },
  {
   "cell_type": "markdown",
   "metadata": {},
   "source": [
    "## Explore Average Mileage by Brand"
   ]
  },
  {
   "cell_type": "code",
   "execution_count": null,
   "metadata": {},
   "outputs": [],
   "source": [
    "brand_avg_mileages = compute_brands_avg_feature(autos, brands, 'odometer_km')"
   ]
  },
  {
   "cell_type": "code",
   "execution_count": null,
   "metadata": {},
   "outputs": [],
   "source": [
    "brand_avg_mileages"
   ]
  },
  {
   "cell_type": "code",
   "execution_count": null,
   "metadata": {},
   "outputs": [],
   "source": [
    "brand_avg_prices = pd.Series(brand_avg_prices)\n",
    "brand_avg_mileages = pd.Series(brand_avg_mileages)"
   ]
  },
  {
   "cell_type": "code",
   "execution_count": null,
   "metadata": {},
   "outputs": [],
   "source": [
    "prices_and_mileages = pd.DataFrame({\n",
    "    'mean_price': brand_avg_prices,\n",
    "    'mean_mileage': brand_avg_mileages\n",
    "})"
   ]
  },
  {
   "cell_type": "code",
   "execution_count": null,
   "metadata": {},
   "outputs": [],
   "source": [
    "prices_and_mileages"
   ]
  },
  {
   "cell_type": "markdown",
   "metadata": {},
   "source": [
    "The range of car mileages does not have significant variations as it is the case in the prices by brand. Note that Pandas provides a convenient way to do aggregation and to compute the same results as above:"
   ]
  },
  {
   "cell_type": "code",
   "execution_count": null,
   "metadata": {},
   "outputs": [],
   "source": [
    "# Only keep the listings associated with top brands\n",
    "autos_top_brands = autos[autos['brand'].isin(brands)]"
   ]
  },
  {
   "cell_type": "code",
   "execution_count": null,
   "metadata": {},
   "outputs": [],
   "source": [
    "autos_top_brands['brand'].value_counts()"
   ]
  },
  {
   "cell_type": "code",
   "execution_count": null,
   "metadata": {},
   "outputs": [],
   "source": [
    "autos_top_brands.groupby('brand')[['price', 'odometer_km']].mean().round(decimals=2).set_index(prices_and_mileages.index)"
   ]
  },
  {
   "cell_type": "markdown",
   "metadata": {},
   "source": [
    "## Translation: from German to English"
   ]
  },
  {
   "cell_type": "markdown",
   "metadata": {},
   "source": [
    "Since this dataset comes from a German website, it is likely we might find some German words. We will start by looking at all relevant categorical columns and see if we can find German vocabulary. Here we use the word *relevant* to refer to categorical columns of interest for further data analysis: for example, we do not want to translate the cars' names or models."
   ]
  },
  {
   "cell_type": "code",
   "execution_count": null,
   "metadata": {},
   "outputs": [],
   "source": [
    "autos.info()"
   ]
  },
  {
   "cell_type": "code",
   "execution_count": null,
   "metadata": {},
   "outputs": [],
   "source": [
    "autos.select_dtypes(include='object').columns"
   ]
  },
  {
   "cell_type": "markdown",
   "metadata": {},
   "source": [
    "We can notice that even if we decided not to clean `model` attribute, there is still a specific value which could be translated to English (*andere*, which means *other*):"
   ]
  },
  {
   "cell_type": "code",
   "execution_count": null,
   "metadata": {},
   "outputs": [],
   "source": [
    "autos['model'].unique()"
   ]
  },
  {
   "cell_type": "markdown",
   "metadata": {},
   "source": [
    "Since we only want to replace this value in this specific column, we will do it separately, after having processed the other columns."
   ]
  },
  {
   "cell_type": "code",
   "execution_count": null,
   "metadata": {},
   "outputs": [],
   "source": [
    "categorical_columns = ['ab_test', 'vehicle_type', 'gearbox', 'fuel_type', 'unrepaired_damage']"
   ]
  },
  {
   "cell_type": "code",
   "execution_count": null,
   "metadata": {},
   "outputs": [],
   "source": [
    "autos[categorical_columns]"
   ]
  },
  {
   "cell_type": "markdown",
   "metadata": {},
   "source": [
    "It seems that all features in `categorical_columns` contain German words, except for `ab_test`. Let's double-check that."
   ]
  },
  {
   "cell_type": "code",
   "execution_count": null,
   "metadata": {},
   "outputs": [],
   "source": [
    "autos['ab_test'].value_counts()"
   ]
  },
  {
   "cell_type": "markdown",
   "metadata": {},
   "source": [
    "Indeed, that's the case, so we will drop `ab_test` from our list of relevant features."
   ]
  },
  {
   "cell_type": "code",
   "execution_count": null,
   "metadata": {},
   "outputs": [],
   "source": [
    "categorical_columns.remove('ab_test')\n",
    "categorical_columns"
   ]
  },
  {
   "cell_type": "markdown",
   "metadata": {},
   "source": [
    "Let's now explore each categorical feature of interest in more detail."
   ]
  },
  {
   "cell_type": "code",
   "execution_count": null,
   "metadata": {},
   "outputs": [],
   "source": [
    "for column in categorical_columns:\n",
    "    print(f\"{column}: {autos[column].unique()}\\n\")"
   ]
  },
  {
   "cell_type": "markdown",
   "metadata": {},
   "source": [
    "We will use a [translator](https://translate.google.com/?sl=de&tl=en&op=translate) from German to English to replace the words we caught above. In order to do that, we first create a mapping and we apply it on the dataset."
   ]
  },
  {
   "cell_type": "code",
   "execution_count": null,
   "metadata": {},
   "outputs": [],
   "source": [
    "from carsales.constants import mapping_ge_to_en"
   ]
  },
  {
   "cell_type": "code",
   "execution_count": null,
   "metadata": {},
   "outputs": [],
   "source": [
    "autos[categorical_columns] = autos[categorical_columns].replace(mapping_ge_to_en)"
   ]
  },
  {
   "cell_type": "code",
   "execution_count": null,
   "metadata": {},
   "outputs": [],
   "source": [
    "for column in categorical_columns:\n",
    "    print(f\"{column}: {autos[column].unique()}\\n\")"
   ]
  },
  {
   "cell_type": "code",
   "execution_count": null,
   "metadata": {},
   "outputs": [],
   "source": [
    "autos['model'] = autos['model'].replace({'andere': 'other'})"
   ]
  },
  {
   "cell_type": "code",
   "execution_count": null,
   "metadata": {},
   "outputs": [],
   "source": [
    "print(f\"model: {autos['model'].unique()}\")"
   ]
  },
  {
   "cell_type": "markdown",
   "metadata": {},
   "source": [
    "## Convert Dates to Uniform Numeric Data"
   ]
  },
  {
   "cell_type": "markdown",
   "metadata": {},
   "source": [
    "Let's again take a look at the date columns in the dataset."
   ]
  },
  {
   "cell_type": "code",
   "execution_count": null,
   "metadata": {},
   "outputs": [],
   "source": [
    "date_columns = ['date_crawled', 'ad_created', 'last_seen']\n",
    "date_columns"
   ]
  },
  {
   "cell_type": "code",
   "execution_count": null,
   "metadata": {},
   "outputs": [],
   "source": [
    "autos[date_columns].head()"
   ]
  },
  {
   "cell_type": "markdown",
   "metadata": {},
   "source": [
    "Currently, the dates are represented using the format `YYYY-MM-DD`. We want to change it to `YYYYMMDD` which seems to be more commonly used in the field of data science. That is, we only need to remove the dashes. Instead of removing these dashes using string functionalities, we will directly use `pandas.dt` module, which is more appropriate as we are dealing with dates."
   ]
  },
  {
   "cell_type": "code",
   "execution_count": null,
   "metadata": {},
   "outputs": [],
   "source": [
    "date_format = \"%Y%m%d %H:%M:%S\"\n",
    "for column in date_columns:\n",
    "    autos[column] = pd.to_datetime(autos[column]).dt.strftime(date_format)"
   ]
  },
  {
   "cell_type": "code",
   "execution_count": null,
   "metadata": {},
   "outputs": [],
   "source": [
    "autos[date_columns].head()"
   ]
  },
  {
   "cell_type": "markdown",
   "metadata": {},
   "source": [
    "## Look for Particular Keywords"
   ]
  },
  {
   "cell_type": "markdown",
   "metadata": {},
   "source": [
    "It may be interesting if we could find useful keywords in some already existing columns, in order to extract them as new columns. This would enrich our dataset and may be useful if we decide to apply a machine learning model in the future.\n",
    "\n",
    "Let's look at the `name` attribute in more detail."
   ]
  },
  {
   "cell_type": "code",
   "execution_count": null,
   "metadata": {},
   "outputs": [],
   "source": [
    "autos['name'].head(20)                            "
   ]
  },
  {
   "cell_type": "markdown",
   "metadata": {},
   "source": [
    "It seems that the first word of the name correspond to the associated brand car. Let's confirm or infirm our assumption."
   ]
  },
  {
   "cell_type": "code",
   "execution_count": null,
   "metadata": {},
   "outputs": [],
   "source": [
    "# Get all brands from the `brand` attribute\n",
    "brands = autos['brand'].unique()"
   ]
  },
  {
   "cell_type": "code",
   "execution_count": null,
   "metadata": {},
   "outputs": [],
   "source": [
    "brands"
   ]
  },
  {
   "cell_type": "code",
   "execution_count": null,
   "metadata": {},
   "outputs": [],
   "source": [
    "# Extract the first word of each name.\n",
    "# If we want to compare the names, we need to lowercase the strings.\n",
    "brands_from_names = autos['name'].str.split(\"_\").str[0].str.casefold()"
   ]
  },
  {
   "cell_type": "code",
   "execution_count": null,
   "metadata": {},
   "outputs": [],
   "source": [
    "brands_from_names"
   ]
  },
  {
   "cell_type": "code",
   "execution_count": null,
   "metadata": {},
   "outputs": [],
   "source": [
    "# Check if our assumption was right\n",
    "autos.loc[~brands_from_names.isin(brands), ['name', 'brand']]"
   ]
  },
  {
   "cell_type": "markdown",
   "metadata": {},
   "source": [
    "Since the dataframe above is not empty, our assumption was not right. More precisely, even if some words like \"VW\" with \"volkswagen\" are related, we can see that there are some other names which are not at all related with the `brand` attribute, like \"Kleinwagen\" with \"renault\"."
   ]
  },
  {
   "cell_type": "code",
   "execution_count": null,
   "metadata": {},
   "outputs": [],
   "source": [
    "autos.head(20)"
   ]
  },
  {
   "cell_type": "code",
   "execution_count": null,
   "metadata": {},
   "outputs": [],
   "source": [
    "autos.info()"
   ]
  },
  {
   "cell_type": "code",
   "execution_count": null,
   "metadata": {},
   "outputs": [],
   "source": [
    "autos[autos['fuel_type'].isnull()]"
   ]
  },
  {
   "cell_type": "markdown",
   "metadata": {},
   "source": [
    "We can see that the feature `unrepaired_damage` is the one which has the highest number of missing values across the whole dataset. This feature seems to be important, since a customer is more likely to buy cars that have no unrepaired damage. We can try to impute this attribute.\n",
    "\n",
    "A first could be to compute some statistics for the cars that have an `unrepaired_damage` missing value, and see if it seems reasonable to use these statistics to fill the missing values."
   ]
  },
  {
   "cell_type": "code",
   "execution_count": null,
   "metadata": {},
   "outputs": [],
   "source": [
    "autos.loc[autos['unrepaired_damage'].isnull(), 'price'].describe()"
   ]
  },
  {
   "cell_type": "markdown",
   "metadata": {},
   "source": [
    "We can clearly see there is a lot of variance. Looking more carefully at the percentiles, we can see that, among cars without value for `unrepaired_damage`, 75% have a price below 3,700 USD. That is, it seems that most of these cars are cheaper. This would mean that these cars are rather old, or they have some unrepaired damage but the owner of the listing decided not to mention that."
   ]
  },
  {
   "cell_type": "code",
   "execution_count": null,
   "metadata": {},
   "outputs": [],
   "source": [
    "len(autos.loc[autos['unrepaired_damage'] == 'no', 'price'])"
   ]
  },
  {
   "cell_type": "markdown",
   "metadata": {},
   "source": [
    "Our technique is based on the price; indeed, a car is more likely to be cheap if it has unrepaired damage. What we could do is calculate the average price for each type of car (here, by type we mean repaired or unrepaired damage) for those we have the information (*i.e.* no missing value in `unrepaired_damage`). Since we already observed a variability in the car prices, we should also compute the variance for each type. Then, for each car having a `unrepaired_damage` missing value, we would look at its price (if available) and decide whether to attribute a `yes` or `no` label.\n",
    "\n",
    "First, let's remove the listings whose we do not have the `price` value, as it is not useful to keep them in the dataset since the car price is an important feature."
   ]
  },
  {
   "cell_type": "code",
   "execution_count": null,
   "metadata": {},
   "outputs": [],
   "source": [
    "autos = autos[autos['price'].notnull()]"
   ]
  },
  {
   "cell_type": "code",
   "execution_count": null,
   "metadata": {},
   "outputs": [],
   "source": [
    "autos.info()"
   ]
  },
  {
   "cell_type": "markdown",
   "metadata": {},
   "source": [
    "Let's then extract the cars whose we have some information about the `unrepaired_damage` attribute. This will be useful to perform some aggregation."
   ]
  },
  {
   "cell_type": "code",
   "execution_count": null,
   "metadata": {},
   "outputs": [],
   "source": [
    "autos_damage_notnull = autos[autos['unrepaired_damage'].notnull()]"
   ]
  },
  {
   "cell_type": "code",
   "execution_count": null,
   "metadata": {},
   "outputs": [],
   "source": [
    "autos_damage_notnull.head()"
   ]
  },
  {
   "cell_type": "code",
   "execution_count": null,
   "metadata": {},
   "outputs": [],
   "source": [
    "# autos_damage_notnull.groupby('unrepaired_damage')[['price', 'odometer_km']].mean().round(decimals=2).set_index(prices_and_mileages.index)"
   ]
  }
 ],
 "metadata": {
  "kernelspec": {
   "display_name": "Python 3 (ipykernel)",
   "language": "python",
   "name": "python3"
  },
  "language_info": {
   "codemirror_mode": {
    "name": "ipython",
    "version": 3
   },
   "file_extension": ".py",
   "mimetype": "text/x-python",
   "name": "python",
   "nbconvert_exporter": "python",
   "pygments_lexer": "ipython3",
   "version": "3.10.4"
  },
  "pycharm": {
   "stem_cell": {
    "cell_type": "raw",
    "metadata": {
     "collapsed": false
    },
    "source": []
   }
  }
 },
 "nbformat": 4,
 "nbformat_minor": 4
}
